{
 "cells": [
  {
   "cell_type": "markdown",
   "metadata": {},
   "source": [
    "# Air Drag on Falling Cones\n",
    "\n"
   ]
  },
  {
   "cell_type": "code",
   "execution_count": null,
   "metadata": {},
   "outputs": [],
   "source": [
    "import numpy as np\n",
    "data = np.loadtxt(\"cones.txt\")\n",
    "\n",
    "def model(p,x):\n",
    "    return p[0] + p[1]*x\n",
    "\n",
    "distance = 30\n",
    "distance_sigma = \n",
    "\n",
    "\n",
    "m = np.array(data3[:,0])\n",
    "m_sigma = np.array(data3[:,1])\n",
    "t1 = np.array(data3[:,2])\n",
    "t2\n",
    "t3\n",
    "t4\n",
    "t5\n",
    "v = distance/t\n",
    "vs = v**2\n",
    "t_sigma = np.array(data3[:,3])\n",
    "\n",
    "\n",
    "x = m\n",
    "y = v\n",
    "sigma_x = m_sigma\n",
    "sigma_y = vs_sigma\n",
    "\n",
    "\n",
    "bf = np.zeros((2,len(data3)))\n",
    "bf[0,:] = x**0\n",
    "bf[1,:] = x\n",
    "\n",
    "A = np.zeros((2,2))\n",
    "b = np.zeros(2)\n",
    "for k in range(2):\n",
    "    for j in range(2):\n",
    "        A[k,j] = np.sum(bf[k,:]*bf[j,:]/sigma_y**2) \n",
    "    b[k] = np.sum(y*bf[k,:]/sigma_y**2)\n",
    "              \n",
    "A_inv = np.linalg.inv(A)\n",
    "a = np.linalg.solve(A,b)\n",
    "\n",
    "xx = np.linspace(0.04,0.18,1000) # Change\n",
    "\n",
    "## VARS for coefficient\n",
    "\n",
    "phi = 2.206\n",
    "g = 9.81\n",
    "p = 1.225\n",
    "r = 0.1\n",
    "\n",
    "\n",
    "grad = a[1]\n",
    "\n",
    "C_d = (grad*8*np.pi*g)/(p*(r**2)*(phi**2))\n",
    "print(\"C_d: \"+str(C_d))\n",
    "\n",
    "\n",
    "plt.rcdefaults()  # turn off xkcd\n",
    "plt.figure()\n",
    "plt.errorbar(x,y,sigma_y,sigma_x,fmt='.')\n",
    "plt.plot(xx,model(a,xx),'r-')\n",
    "# plt.plot(xx,power_model(a,xx),'r-')\n",
    "plt.xlabel('$hT^2$')\n",
    "plt.ylabel('$h^2$')"
   ]
  }
 ],
 "metadata": {
  "kernelspec": {
   "display_name": "Python 3",
   "language": "python",
   "name": "python3"
  },
  "language_info": {
   "codemirror_mode": {
    "name": "ipython",
    "version": 3
   },
   "file_extension": ".py",
   "mimetype": "text/x-python",
   "name": "python",
   "nbconvert_exporter": "python",
   "pygments_lexer": "ipython3",
   "version": "3.7.1"
  }
 },
 "nbformat": 4,
 "nbformat_minor": 2
}
